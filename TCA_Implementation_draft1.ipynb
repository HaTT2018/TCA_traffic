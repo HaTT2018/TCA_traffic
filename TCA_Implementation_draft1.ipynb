{
 "cells": [
  {
   "cell_type": "code",
   "execution_count": 1,
   "metadata": {},
   "outputs": [],
   "source": [
    "import numpy as np\n",
    "import scipy.io\n",
    "import scipy.linalg\n",
    "import sklearn.metrics\n",
    "from sklearn.neighbors import KNeighborsClassifier\n",
    "import pandas as pd\n",
    "\n",
    "import matplotlib.pyplot as plt\n",
    "from mpl_toolkits.mplot3d import Axes3D\n",
    "\n",
    "import torch\n",
    "from torch import nn\n",
    "\n",
    "import ipdb"
   ]
  },
  {
   "cell_type": "markdown",
   "metadata": {},
   "source": [
    "# TCA Part"
   ]
  },
  {
   "cell_type": "code",
   "execution_count": 2,
   "metadata": {},
   "outputs": [],
   "source": [
    "def var_name(var, all_var=locals()):\n",
    "    return [var_name for var_name in all_var if all_var[var_name] is var][0]"
   ]
  },
  {
   "cell_type": "code",
   "execution_count": 3,
   "metadata": {},
   "outputs": [],
   "source": [
    "def np2csv(A):\n",
    "    if type(A) == torch.Tensor:\n",
    "        np.savetxt(var_name(A)+'.csv', A.detach().numpy(), delimiter=',')\n",
    "    elif type(A) == np.ndarray:\n",
    "        np.savetxt(var_name(A)+'.csv', A, delimiter=',')"
   ]
  },
  {
   "cell_type": "code",
   "execution_count": 4,
   "metadata": {},
   "outputs": [],
   "source": [
    "def kernel(ker, X1, X2, gamma):\n",
    "    K = None\n",
    "    if not ker or ker == 'primal':\n",
    "        K = X1\n",
    "    elif ker == 'linear':\n",
    "        if X2 is not None:\n",
    "            # next line: K = X1.T@X2\n",
    "            K = sklearn.metrics.pairwise.linear_kernel(np.asarray(X1).T, np.asarray(X2).T)\n",
    "        else:\n",
    "            K = X1.T@X1\n",
    "    elif ker == 'rbf':\n",
    "        if X2 is not None:\n",
    "            K = sklearn.metrics.pairwise.rbf_kernel(np.asarray(X1).T, np.asarray(X2).T, gamma)\n",
    "        else:\n",
    "            K = sklearn.metrics.pairwise.rbf_kernel(np.asarray(X1).T, None, gamma)\n",
    "    return K"
   ]
  },
  {
   "cell_type": "code",
   "execution_count": 5,
   "metadata": {},
   "outputs": [],
   "source": [
    "class TCA:\n",
    "    def __init__(self, kernel_type='primal', dim=30, lamb=1, gamma=1):\n",
    "        '''\n",
    "        Init func\n",
    "        :param kernel_type: kernel, values: 'primal' | 'linear' | 'rbf'\n",
    "        :param dim: dimension after transfer\n",
    "        :param lamb: lambda value in equation\n",
    "        :param gamma: kernel bandwidth for rbf kernel\n",
    "        '''\n",
    "        self.kernel_type = kernel_type\n",
    "        self.dim = dim\n",
    "        self.lamb = lamb\n",
    "        self.gamma = gamma\n",
    "\n",
    "    def fit(self, Xs, Xt):\n",
    "        '''\n",
    "        Transform Xs and Xt\n",
    "        :param Xs: ns * n_feature, source feature\n",
    "        :param Xt: nt * n_feature, target feature\n",
    "        :return: Xs_new and Xt_new after TCA\n",
    "        '''\n",
    "        X = np.hstack((Xs.T, Xt.T))\n",
    "        X /= np.linalg.norm(X, axis=0)\n",
    "        m, n = X.shape\n",
    "        ns, nt = len(Xs), len(Xt)\n",
    "        e = np.vstack((1 / ns * np.ones((ns, 1)), -1 / nt * np.ones((nt, 1))))\n",
    "        L = e * e.T\n",
    "        L = L / np.linalg.norm(L, 'fro')\n",
    "        H = np.eye(n) - 1 / n * np.ones((n, n))  # page 202\n",
    "        K = kernel(self.kernel_type, X, None, gamma=self.gamma)\n",
    "        n_eye = m if self.kernel_type == 'primal' else n\n",
    "        a, b = np.linalg.multi_dot([K, L, K.T]) + self.lamb * np.eye(n_eye), np.linalg.multi_dot([K, H, K.T])\n",
    "        w, V = scipy.linalg.eig(a, b)\n",
    "        ind = np.argsort(w)\n",
    "        A = V[:, ind[:self.dim]]\n",
    "        Z = np.dot(A.T, K)\n",
    "        Z /= np.linalg.norm(Z, axis=0)\n",
    "        Xs_new, Xt_new = Z[:, :ns].T, Z[:, ns:].T\n",
    "        return Xs_new, Xt_new, A\n",
    "\n",
    "    def fit_predict(self, Xs, Ys, Xt, Yt):\n",
    "        '''\n",
    "        Transform Xs and Xt, then make predictions on target using 1NN\n",
    "        :param Xs: ns * n_feature, source feature\n",
    "        :param Ys: ns * 1, source label\n",
    "        :param Xt: nt * n_feature, target feature\n",
    "        :param Yt: nt * 1, target label\n",
    "        :return: Accuracy and predicted_labels on the target domain\n",
    "        '''\n",
    "        Xs_new, Xt_new = self.fit(Xs, Xt)\n",
    "        clf = KNeighborsClassifier(n_neighbors=1)\n",
    "        clf.fit(Xs_new, Ys.ravel())\n",
    "        y_pred = clf.predict(Xt_new)\n",
    "        acc = sklearn.metrics.accuracy_score(Yt, y_pred)\n",
    "        return acc, y_pred, Xs_new, Xt_new"
   ]
  },
  {
   "cell_type": "code",
   "execution_count": 6,
   "metadata": {},
   "outputs": [],
   "source": [
    "def normalize(V):\n",
    "    return ( V - min(V.flatten()) ) / ( max(V.flatten()) - min(V.flatten()) )"
   ]
  },
  {
   "cell_type": "code",
   "execution_count": 7,
   "metadata": {},
   "outputs": [],
   "source": [
    "def sliding_window(T, seq_len, label_seq_len, inp_dim=1, label_dim=1):\n",
    "\n",
    "    # inp_dim is equal to window_size\n",
    "    # T (np.array) has dim: population, seq_len (window length)\n",
    "    TT = T.reshape(-1, 1)\n",
    "    K = TT.shape[0] - seq_len - label_seq_len + 1\n",
    "\n",
    "    # TT has dim: n, 1\n",
    "    # assemble the data into 2D\n",
    "    train_x = np.vstack(TT[i : K+i, 0] for i in range(seq_len)).T\n",
    "    train_y = np.vstack(TT[i+inp_dim : K+inp_dim+i, 0] for i in range(label_seq_len)).T\n",
    "    \n",
    "    assert train_x.shape[0] == train_y.shape[0]\n",
    "\n",
    "    # return size: [sequence_len, batch_size, inp/out dim = 1(default)]\n",
    "    return train_x.T, train_y.T\n"
   ]
  },
  {
   "cell_type": "markdown",
   "metadata": {},
   "source": [
    "## Input \"seq_len\", \"inp_dim\", \"label_dim\" below"
   ]
  },
  {
   "cell_type": "code",
   "execution_count": 8,
   "metadata": {
    "scrolled": false
   },
   "outputs": [
    {
     "name": "stderr",
     "output_type": "stream",
     "text": [
      "/opt/anaconda3/lib/python3.7/site-packages/ipykernel_launcher.py:10: FutureWarning: arrays to stack must be passed as a \"sequence\" type such as list or tuple. Support for non-sequence iterables such as generators is deprecated as of NumPy 1.16 and will raise an error in the future.\n",
      "  # Remove the CWD from sys.path while we load stuff.\n",
      "/opt/anaconda3/lib/python3.7/site-packages/ipykernel_launcher.py:11: FutureWarning: arrays to stack must be passed as a \"sequence\" type such as list or tuple. Support for non-sequence iterables such as generators is deprecated as of NumPy 1.16 and will raise an error in the future.\n",
      "  # This is added back by InteractiveShellApp.init_path()\n"
     ]
    }
   ],
   "source": [
    "data_source = np.array(pd.read_csv('site8700_1_20210101_20210131.csv'))  # leeds\n",
    "data_target = np.array(pd.read_csv('siteM4_2210B_20210101_20210131.csv'))  # london\n",
    "\n",
    "src_domain = data_source\n",
    "date_choosen = 12\n",
    "tar_domain = data_target[date_choosen, :].reshape(-1, 96)\n",
    "tgt_validation = data_target[date_choosen:date_choosen+10, :].reshape(-1, 96)\n",
    "\n",
    "src_domain = normalize(src_domain)\n",
    "tar_domain = normalize(tar_domain)\n",
    "\n",
    "# source_x and source_y would be used for training the network\n",
    "inp_dim = 1\n",
    "label_dim = 1\n",
    "label_seq_len = 1\n",
    "# batch_size = full batch\n",
    "seq_len = 6\n",
    "target_x, target_y = sliding_window(tar_domain, seq_len, label_seq_len)\n",
    "source_x, source_y = sliding_window(src_domain, seq_len, label_seq_len)\n"
   ]
  },
  {
   "cell_type": "code",
   "execution_count": 9,
   "metadata": {},
   "outputs": [
    {
     "name": "stdout",
     "output_type": "stream",
     "text": [
      "(6, 2778)\n",
      "(1, 2778)\n",
      "(6, 90)\n",
      "(1, 90)\n"
     ]
    }
   ],
   "source": [
    "print(source_x.shape)\n",
    "print(source_y.shape)\n",
    "print(target_x.shape)\n",
    "print(target_y.shape)"
   ]
  },
  {
   "cell_type": "code",
   "execution_count": 10,
   "metadata": {},
   "outputs": [],
   "source": [
    "\n",
    "reduced_de = 1\n",
    "seq_len -= reduced_de\n",
    "\n",
    "tca = TCA(kernel_type='linear', dim=seq_len, lamb=3, gamma=1)\n",
    "Xs_new, Xt_new, A = tca.fit(source_x.T, target_x.T)\n",
    "Xs_new, Xt_new = Xs_new.T, Xt_new.T\n",
    "\n",
    "train_x = np.concatenate((Xs_new, Xt_new), axis=1)\n",
    "train_y = np.concatenate((source_y, target_y), axis=1)\n",
    "target_x = Xt_new\n"
   ]
  },
  {
   "cell_type": "markdown",
   "metadata": {},
   "source": [
    "# Learning Part"
   ]
  },
  {
   "cell_type": "code",
   "execution_count": 11,
   "metadata": {},
   "outputs": [
    {
     "name": "stdout",
     "output_type": "stream",
     "text": [
      "(5, 2868)\n",
      "(1, 2868)\n"
     ]
    }
   ],
   "source": [
    "print(train_x.shape)\n",
    "print(train_y.shape)"
   ]
  },
  {
   "cell_type": "code",
   "execution_count": 12,
   "metadata": {},
   "outputs": [],
   "source": [
    "class LSTM(nn.Module):\n",
    "    def __init__(self, inp_dim, out_dim, hid_dim, layers):\n",
    "        super(LSTM, self).__init__()\n",
    "\n",
    "        self.out_dim = out_dim\n",
    "        \n",
    "        self.lstm = nn.LSTM(inp_dim, hid_dim, layers, dropout=0.1)\n",
    "        \n",
    "        self.fc = nn.Sequential(\n",
    "            nn.Linear(hid_dim, out_dim)\n",
    "        )  # regression\n",
    "    \n",
    "    def forward(self, x):\n",
    "        # input: (seq_len, batchsize, input_size)\n",
    "        # output: (seq_len, batchsize, hid_dim)\n",
    "        #ipdb.set_trace()\n",
    "        y = self.lstm(x)[0]  # y, (h, c) = self.rnn(x)\n",
    "\n",
    "        seq_len, batch_size, hid_dim = y.shape\n",
    "        \n",
    "        y = y.view(-1, hid_dim)\n",
    "        y = self.fc(y)  # fully connected layer\n",
    "        y = y.view(seq_len, batch_size, -1)\n",
    "        assert y.shape[2] == self.out_dim\n",
    "        \n",
    "        return y[0, :, :]\n"
   ]
  },
  {
   "cell_type": "code",
   "execution_count": 13,
   "metadata": {},
   "outputs": [],
   "source": [
    "def assemble(X):\n",
    "    '''\n",
    "    X = torch.tensor(X)\n",
    "    batch_num = X.shape[0] // (seq_len*batch_size)\n",
    "    new_X = torch.zeros(seq_len, batch_size, dim, batch_num)\n",
    "    for i in range(batch_num):\n",
    "        for j in range(batch_size):\n",
    "            #ipdb.set_trace()\n",
    "            new_X[:, j, :, i] = X[seq_len*(i*j+j):seq_len*(i*j+j+1), :]\n",
    "    '''\n",
    "    new_X = X[:, :, np.newaxis]\n",
    "    return new_X\n"
   ]
  },
  {
   "cell_type": "markdown",
   "metadata": {},
   "source": [
    "## Input \"hid_dim\", \"layers\" below"
   ]
  },
  {
   "cell_type": "code",
   "execution_count": 14,
   "metadata": {
    "scrolled": true
   },
   "outputs": [],
   "source": [
    "# build model\n",
    "hid_dim, layers = 4, 3\n",
    "\n",
    "device = torch.device(\"cuda\" if torch.cuda.is_available() else \"cpu\")\n",
    "net = LSTM(inp_dim, label_dim, hid_dim, layers).to(device)\n",
    "criterion = nn.MSELoss()\n",
    "optimizer = torch.optim.Adam(net.parameters(), lr=0.01)\n",
    "#scheduler =  torch.optim.lr_scheduler.StepLR(optimizer, 0.7)\n",
    "\n",
    "train_x = assemble(train_x)\n",
    "train_y = assemble(train_y)\n",
    "target_x = assemble(target_x)\n",
    "target_y = assemble(target_y)\n",
    "\n",
    "train_x = torch.tensor(train_x, dtype=torch.float32, device=device)\n",
    "train_y = torch.tensor(train_y, dtype=torch.float32, device=device)\n",
    "target_x = torch.tensor(target_x, dtype=torch.float32, device=device)\n",
    "target_y = torch.tensor(target_y, dtype=torch.float32, device=device)"
   ]
  },
  {
   "cell_type": "code",
   "execution_count": 20,
   "metadata": {
    "scrolled": false
   },
   "outputs": [
    {
     "name": "stdout",
     "output_type": "stream",
     "text": [
      "Epoch:    0, Loss: 0.0369336\n",
      "Epoch:  100, Loss: 0.0364612\n",
      "Epoch:  200, Loss: 0.0370224\n",
      "Epoch:  300, Loss: 0.0371510\n",
      "Epoch:  400, Loss: 0.0364113\n",
      "Epoch:  500, Loss: 0.0364539\n",
      "Epoch:  600, Loss: 0.0366459\n",
      "Epoch:  700, Loss: 0.0362437\n",
      "Epoch:  800, Loss: 0.0362513\n",
      "Epoch:  900, Loss: 0.0364065\n",
      "Epoch: 1000, Loss: 0.0365547\n",
      "Epoch: 1100, Loss: 0.0357714\n",
      "Epoch: 1200, Loss: 0.0363992\n",
      "Epoch: 1300, Loss: 0.0365834\n",
      "Epoch: 1400, Loss: 0.0361155\n",
      "Epoch: 1500, Loss: 0.0369454\n",
      "Epoch: 1600, Loss: 0.0363940\n",
      "Epoch: 1700, Loss: 0.0360820\n",
      "Epoch: 1800, Loss: 0.0361003\n",
      "Epoch: 1900, Loss: 0.0359319\n",
      "Epoch: 2000, Loss: 0.0360018\n",
      "Epoch: 2100, Loss: 0.0358362\n",
      "Epoch: 2200, Loss: 0.0355902\n",
      "Epoch: 2300, Loss: 0.0355749\n",
      "Epoch: 2400, Loss: 0.0357538\n",
      "Epoch: 2500, Loss: 0.0357447\n"
     ]
    }
   ],
   "source": [
    "# train\n",
    "num_epoch = 2501\n",
    "\n",
    "for e in range(num_epoch):\n",
    "    # train_x: [seq_len, batch_size, inp_dim, batch#]\n",
    "    #ipdb.set_trace()\n",
    "    out = net(train_x)\n",
    "\n",
    "    loss = (out - train_y) ** 2\n",
    "    loss = loss.mean()\n",
    "\n",
    "    optimizer.zero_grad()\n",
    "    loss.backward()\n",
    "\n",
    "    optimizer.step()\n",
    "    \n",
    "    if e%100==0:\n",
    "        print('Epoch: {:4}, Loss: {:.7f}'.format(e, loss.item()))\n",
    "        #scheduler.step()\n",
    "        # test\n",
    "\n",
    "        '''\n",
    "        fig = plt.figure(figsize=[20, 5])\n",
    "        pred_y = out.T.detach().numpy().reshape(-1,1)\n",
    "        ground_truth = train_y[:, :, :, i].T.reshape(-1,1)\n",
    "        ground_truth = normalize(ground_truth)\n",
    "        ax1 = fig.add_subplot(121)\n",
    "        ax1.plot(ground_truth, 'r', label='true value')\n",
    "        ax1.plot(pred_y, 'b', label='predict')\n",
    "        ax1.legend()\n",
    "        \n",
    "        \n",
    "        ax2 = fig.add_subplot(122)\n",
    "        ax2.plot(ground_truth, 'r', label='true value')\n",
    "        ax2.plot(pred_y, 'b', label='predict')\n",
    "        ax2.legend()\n",
    "        plt.show()\n",
    "        '''"
   ]
  },
  {
   "cell_type": "code",
   "execution_count": 21,
   "metadata": {},
   "outputs": [
    {
     "data": {
      "text/plain": [
       "torch.Size([1, 2868, 1])"
      ]
     },
     "execution_count": 21,
     "metadata": {},
     "output_type": "execute_result"
    }
   ],
   "source": [
    "train_y.shape"
   ]
  },
  {
   "cell_type": "code",
   "execution_count": 22,
   "metadata": {},
   "outputs": [
    {
     "data": {
      "image/png": "[encoded data removed]",
      "text/plain": [
       "<Figure size 1440x360 with 2 Axes>"
      ]
     },
     "metadata": {
      "needs_background": "light"
     },
     "output_type": "display_data"
    }
   ],
   "source": [
    "# test\n",
    "num_day = 3\n",
    "\n",
    "pred_y = net(target_x).detach().numpy().T.flatten()\n",
    "ground_truth = target_y.detach().numpy().T.flatten()\n",
    "\n",
    "fig = plt.figure(figsize=[20, 5])\n",
    "ax1 = fig.add_subplot(121)\n",
    "ax1.plot(ground_truth[:97*num_day], 'r', label='true value')\n",
    "ax1.plot(pred_y[:97*num_day], 'b', label='predict')\n",
    "ax1.legend()\n",
    "ax2 = fig.add_subplot(122)\n",
    "ax2.plot(ground_truth, 'r', label='true value')\n",
    "ax2.plot(pred_y, 'b', label='predict')\n",
    "ax2.legend()\n",
    "plt.show()"
   ]
  },
  {
   "cell_type": "code",
   "execution_count": 23,
   "metadata": {},
   "outputs": [],
   "source": [
    "train_x_temp = train_x.reshape(-1, seq_len)\n",
    "np2csv(train_x_temp)\n",
    "target_x_temp = target_x.reshape(-1, seq_len)\n",
    "np2csv(target_x_temp)\n",
    "#np2csv(A)"
   ]
  },
  {
   "cell_type": "code",
   "execution_count": 24,
   "metadata": {
    "scrolled": false
   },
   "outputs": [
    {
     "name": "stderr",
     "output_type": "stream",
     "text": [
      "/opt/anaconda3/lib/python3.7/site-packages/ipykernel_launcher.py:10: FutureWarning: arrays to stack must be passed as a \"sequence\" type such as list or tuple. Support for non-sequence iterables such as generators is deprecated as of NumPy 1.16 and will raise an error in the future.\n",
      "  # Remove the CWD from sys.path while we load stuff.\n",
      "/opt/anaconda3/lib/python3.7/site-packages/ipykernel_launcher.py:11: FutureWarning: arrays to stack must be passed as a \"sequence\" type such as list or tuple. Support for non-sequence iterables such as generators is deprecated as of NumPy 1.16 and will raise an error in the future.\n",
      "  # This is added back by InteractiveShellApp.init_path()\n"
     ]
    },
    {
     "data": {
      "text/plain": [
       "<matplotlib.legend.Legend at 0x7f8e2c331990>"
      ]
     },
     "execution_count": 24,
     "metadata": {},
     "output_type": "execute_result"
    },
    {
     "data": {
      "image/png": "[encoded data removed]",
      "text/plain": [
       "<Figure size 1080x576 with 1 Axes>"
      ]
     },
     "metadata": {
      "needs_background": "light"
     },
     "output_type": "display_data"
    }
   ],
   "source": [
    "new_target_x = target_x.detach().numpy().copy()\n",
    "new_target_x = torch.tensor(new_target_x, dtype=torch.float32, device=device)\n",
    "target_y_plot = list(target_y.detach().numpy().copy().T.flatten())\n",
    "\n",
    "for i in range(96):\n",
    "    pred_y = net(new_target_x).detach().numpy()\n",
    "    #ipdb.set_trace()\n",
    "    target_y_plot.append(pred_y[-1][0])\n",
    "    new_tar_domain = np.hstack([tar_domain[0:1, 1:], pred_y.reshape(1, -1)])\n",
    "    new_target_x, new_target_y = sliding_window(new_tar_domain, seq_len, label_seq_len)\n",
    "    new_target_x = torch.tensor(new_target_x, dtype=torch.float32, device=device)\n",
    "    # new_target_x = A@new_target_x\n",
    "    new_target_x = new_target_x.reshape(seq_len, -1, inp_dim)\n",
    "\n",
    "\n",
    "fig = plt.figure(figsize=[15,8])\n",
    "ax = fig.add_subplot(111)\n",
    "ax.plot(target_y_plot, 'b', label='predicted flow')\n",
    "ax.plot(target_y.detach().numpy().T.flatten(), 'r', label='historical flow')\n",
    "plt.legend()"
   ]
  },
  {
   "cell_type": "code",
   "execution_count": null,
   "metadata": {},
   "outputs": [],
   "source": []
  }
 ],
 "metadata": {
  "kernelspec": {
   "display_name": "Python 3",
   "language": "python",
   "name": "python3"
  },
  "language_info": {
   "codemirror_mode": {
    "name": "ipython",
    "version": 3
   },
   "file_extension": ".py",
   "mimetype": "text/x-python",
   "name": "python",
   "nbconvert_exporter": "python",
   "pygments_lexer": "ipython3",
   "version": "3.7.6"
  }
 },
 "nbformat": 4,
 "nbformat_minor": 4
}
